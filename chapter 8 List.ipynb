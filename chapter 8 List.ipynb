{
 "cells": [
  {
   "cell_type": "markdown",
   "id": "18e114e1",
   "metadata": {},
   "source": [
    "# list"
   ]
  },
  {
   "cell_type": "code",
   "execution_count": 1,
   "id": "4fed74e3",
   "metadata": {},
   "outputs": [
    {
     "name": "stdout",
     "output_type": "stream",
     "text": [
      "[1, 24, 76]\n"
     ]
    }
   ],
   "source": [
    "print([1 , 24, 76])"
   ]
  },
  {
   "cell_type": "code",
   "execution_count": 3,
   "id": "31aae462",
   "metadata": {},
   "outputs": [
    {
     "name": "stdout",
     "output_type": "stream",
     "text": [
      "['REd', 'YELLOW', 'BLUE']\n"
     ]
    }
   ],
   "source": [
    "print(['REd' , 'YELLOW' , 'BLUE'])"
   ]
  },
  {
   "cell_type": "code",
   "execution_count": 4,
   "id": "7ce81b09",
   "metadata": {},
   "outputs": [
    {
     "name": "stdout",
     "output_type": "stream",
     "text": [
      "5\n",
      "4\n",
      "3\n",
      "2\n",
      "1\n"
     ]
    }
   ],
   "source": [
    "for i in [5,4,3,2,1]:\n",
    "    print(i)"
   ]
  },
  {
   "cell_type": "code",
   "execution_count": 7,
   "id": "d9b89598",
   "metadata": {},
   "outputs": [
    {
     "name": "stdout",
     "output_type": "stream",
     "text": [
      "Good Evening: rimla\n",
      "Done!\n",
      "Good Evening: sana\n",
      "Done!\n",
      "Good Evening: zonia\n",
      "Done!\n"
     ]
    }
   ],
   "source": [
    "friends = ['rimla','sana','zonia']\n",
    "for friend in friends :\n",
    "    print('Good Evening:', friend)\n",
    "    print('Done!')"
   ]
  },
  {
   "cell_type": "code",
   "execution_count": 8,
   "id": "bf80e3a1",
   "metadata": {},
   "outputs": [
    {
     "name": "stdout",
     "output_type": "stream",
     "text": [
      "sana\n"
     ]
    }
   ],
   "source": [
    "friends = ['rimla','sana','zonia']\n",
    "print(friends[1])"
   ]
  },
  {
   "cell_type": "markdown",
   "id": "726a9247",
   "metadata": {},
   "source": [
    "# list are mutable"
   ]
  },
  {
   "cell_type": "code",
   "execution_count": 11,
   "id": "9e6f3c6d",
   "metadata": {},
   "outputs": [
    {
     "name": "stdout",
     "output_type": "stream",
     "text": [
      "banana\n"
     ]
    }
   ],
   "source": [
    "fruit = 'banana'\n",
    "x = fruit.lower()\n",
    "print(x)"
   ]
  },
  {
   "cell_type": "markdown",
   "id": "6a7d217d",
   "metadata": {},
   "source": [
    "# how long is list"
   ]
  },
  {
   "cell_type": "code",
   "execution_count": 12,
   "id": "c0d31ae2",
   "metadata": {},
   "outputs": [
    {
     "name": "stdout",
     "output_type": "stream",
     "text": [
      "8\n"
     ]
    }
   ],
   "source": [
    "greet = 'helo bob'\n",
    "print(len(greet))"
   ]
  },
  {
   "cell_type": "code",
   "execution_count": 13,
   "id": "482c8f9e",
   "metadata": {},
   "outputs": [
    {
     "name": "stdout",
     "output_type": "stream",
     "text": [
      "range(0, 4)\n"
     ]
    }
   ],
   "source": [
    "print(range(4))"
   ]
  },
  {
   "cell_type": "code",
   "execution_count": 14,
   "id": "7f3768b1",
   "metadata": {},
   "outputs": [
    {
     "name": "stdout",
     "output_type": "stream",
     "text": [
      "3\n"
     ]
    }
   ],
   "source": [
    "friends = ['rimla','sana','zonia']\n",
    "print(len(friends))"
   ]
  },
  {
   "cell_type": "code",
   "execution_count": 15,
   "id": "c4bece03",
   "metadata": {},
   "outputs": [
    {
     "name": "stdout",
     "output_type": "stream",
     "text": [
      "[1, 2, 3, 4, 5, 6]\n"
     ]
    }
   ],
   "source": [
    "a = [1 , 2 , 3]\n",
    "b = [4 , 5 , 6]\n",
    "c = a + b\n",
    "print(c)"
   ]
  },
  {
   "cell_type": "markdown",
   "id": "8faa0c7b",
   "metadata": {},
   "source": [
    "# list can be sliced using:"
   ]
  },
  {
   "cell_type": "code",
   "execution_count": 16,
   "id": "db7d28e8",
   "metadata": {},
   "outputs": [
    {
     "data": {
      "text/plain": [
       "[14, 15]"
      ]
     },
     "execution_count": 16,
     "metadata": {},
     "output_type": "execute_result"
    }
   ],
   "source": [
    "t = [9 , 14 , 15 , 16 , 17]\n",
    "t[1:3]"
   ]
  },
  {
   "cell_type": "code",
   "execution_count": 17,
   "id": "1ed28d1d",
   "metadata": {},
   "outputs": [
    {
     "data": {
      "text/plain": [
       "list"
      ]
     },
     "execution_count": 17,
     "metadata": {},
     "output_type": "execute_result"
    }
   ],
   "source": [
    "x = list()\n",
    "type(x)"
   ]
  },
  {
   "cell_type": "markdown",
   "id": "a5989b79",
   "metadata": {},
   "source": [
    "# Building a list from scratch"
   ]
  },
  {
   "cell_type": "code",
   "execution_count": 1,
   "id": "8bc71509",
   "metadata": {},
   "outputs": [
    {
     "name": "stdout",
     "output_type": "stream",
     "text": [
      "['book', 99]\n"
     ]
    }
   ],
   "source": [
    "stuff = list()\n",
    "stuff.append('book')\n",
    "stuff.append(99)\n",
    "print(stuff)"
   ]
  },
  {
   "cell_type": "markdown",
   "id": "f4a205e3",
   "metadata": {},
   "source": [
    "# is something in list"
   ]
  },
  {
   "cell_type": "code",
   "execution_count": 2,
   "id": "b3a8832e",
   "metadata": {},
   "outputs": [
    {
     "data": {
      "text/plain": [
       "True"
      ]
     },
     "execution_count": 2,
     "metadata": {},
     "output_type": "execute_result"
    }
   ],
   "source": [
    "some = [1 , 2 ,4 , 7, 8, 9]\n",
    "9 in some"
   ]
  },
  {
   "cell_type": "code",
   "execution_count": 3,
   "id": "7f09ac88",
   "metadata": {},
   "outputs": [
    {
     "data": {
      "text/plain": [
       "False"
      ]
     },
     "execution_count": 3,
     "metadata": {},
     "output_type": "execute_result"
    }
   ],
   "source": [
    "some = [1 , 2 ,4 , 7, 8, 9]\n",
    "15 in some"
   ]
  },
  {
   "cell_type": "code",
   "execution_count": 4,
   "id": "c65f5bcc",
   "metadata": {},
   "outputs": [
    {
     "name": "stdout",
     "output_type": "stream",
     "text": [
      "[1, 2, 3, 4, 7, 8, 9]\n"
     ]
    }
   ],
   "source": [
    "friends = [1, 2, 3, 4,9,8,7]\n",
    "friends.sort()\n",
    "print(friends)"
   ]
  },
  {
   "cell_type": "markdown",
   "id": "6fb4054d",
   "metadata": {},
   "source": [
    "# Built in functions and list"
   ]
  },
  {
   "cell_type": "code",
   "execution_count": 5,
   "id": "d76c01ab",
   "metadata": {},
   "outputs": [
    {
     "name": "stdout",
     "output_type": "stream",
     "text": [
      "7\n"
     ]
    }
   ],
   "source": [
    "friends = [1, 2, 3, 4,9,8,7]\n",
    "print(len(friends))"
   ]
  },
  {
   "cell_type": "code",
   "execution_count": 6,
   "id": "d5912055",
   "metadata": {},
   "outputs": [
    {
     "name": "stdout",
     "output_type": "stream",
     "text": [
      "1\n"
     ]
    }
   ],
   "source": [
    "friends = [1, 2, 3, 4,9,8,7]\n",
    "print(min(friends))"
   ]
  },
  {
   "cell_type": "code",
   "execution_count": 7,
   "id": "a9530230",
   "metadata": {},
   "outputs": [
    {
     "name": "stdout",
     "output_type": "stream",
     "text": [
      "['with', 'three', 'words']\n"
     ]
    }
   ],
   "source": [
    "abc = 'with three words'\n",
    "stuff = abc.split()\n",
    "print(stuff)"
   ]
  },
  {
   "cell_type": "code",
   "execution_count": null,
   "id": "d328bc14",
   "metadata": {},
   "outputs": [],
   "source": []
  }
 ],
 "metadata": {
  "kernelspec": {
   "display_name": "Python 3 (ipykernel)",
   "language": "python",
   "name": "python3"
  },
  "language_info": {
   "codemirror_mode": {
    "name": "ipython",
    "version": 3
   },
   "file_extension": ".py",
   "mimetype": "text/x-python",
   "name": "python",
   "nbconvert_exporter": "python",
   "pygments_lexer": "ipython3",
   "version": "3.11.4"
  }
 },
 "nbformat": 4,
 "nbformat_minor": 5
}
